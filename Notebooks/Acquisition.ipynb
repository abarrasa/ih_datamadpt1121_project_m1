{
 "cells": [
  {
   "cell_type": "code",
   "execution_count": 108,
   "id": "80c5928d",
   "metadata": {},
   "outputs": [],
   "source": [
    "import requests\n",
    "import pandas as pd\n",
    "from shapely.geometry import Point\n",
    "import geopandas as gpd \n",
    "import argparse"
   ]
  },
  {
   "cell_type": "code",
   "execution_count": 129,
   "id": "73ce1c70",
   "metadata": {},
   "outputs": [],
   "source": [
    "def embajadas():\n",
    "    response = requests.get('https://datos.madrid.es/egob/catalogo/201000-0-embajadas-consulados.json')\n",
    "    results = response.json()\n",
    "    embajadas = pd.json_normalize(results['@graph'])\n",
    "    embajadas[\"Type of place\"] = \"Embajadas y consulados\"\n",
    "    embajadas[\"Dirección\"] = embajadas[\"address.street-address\"]\n",
    "    embajadas[\"location.latitude\"] = pd.to_numeric(embajadas[\"location.latitude\"],errors = 'coerce')\n",
    "    embajadas[\"location.longitude\"] = pd.to_numeric(embajadas[\"location.longitude\"],errors = 'coerce')\n",
    "    embajadas_clean = embajadas[[\"title\",\"Type of place\", \"Dirección\",\"location.longitude\",\"location.latitude\"]]\n",
    "    embajadas_clean = embajadas_clean.rename(columns={\"title\": \"Place of interest\", \"Dirección\": \"Place address\", \"location.longitude\": \"Longitud_inicial\", \"location.latitude\": \"Latitud_inicial\"}, errors=\"raise\")\n",
    "    return embajadas_clean\n",
    "\n",
    "def estaciones():\n",
    "    estaciones = pd.read_json(\"../data/bicimad.json\", orient='records')\n",
    "    geometry_coordinates = estaciones[\"geometry_coordinates\"].str.split(expand=True)\n",
    "    geometry_coordinates.columns = ['LONGITUD', 'LATITUD']\n",
    "    geometry_coordinates['LONGITUD'] = geometry_coordinates['LONGITUD'].str.replace(\"[\",\"\")\n",
    "    geometry_coordinates['LONGITUD'] = geometry_coordinates['LONGITUD'].str.replace(\",\",\"\")\n",
    "    geometry_coordinates['LATITUD'] = geometry_coordinates['LATITUD'].str.replace(\"]\",\"\")\n",
    "    estaciones = pd.concat([estaciones, geometry_coordinates], axis=1)\n",
    "    estaciones_clean = estaciones.rename(columns={\"name\": \"BiciMAD station\", \"address\": \"Station location\", \"LONGITUD\": \"Longitud_final\", \"LATITUD\": \"Latitud_final\"}, errors=\"raise\")\n",
    "    estaciones_clean = estaciones_clean[[\"BiciMAD station\",\"Station location\",\"Longitud_final\",\"Latitud_final\"]]\n",
    "    estaciones_clean['Latitud_final'] = pd.to_numeric(estaciones_clean['Latitud_final'],errors = 'coerce')\n",
    "    estaciones_clean['Longitud_final'] = pd.to_numeric(estaciones_clean['Longitud_final'],errors = 'coerce')\n",
    "    return estaciones_clean\n"
   ]
  },
  {
   "cell_type": "code",
   "execution_count": 131,
   "id": "4d7034a8",
   "metadata": {},
   "outputs": [],
   "source": [
    "def to_mercator(lat, long):\n",
    "    # transform latitude/longitude data in degrees to pseudo-mercator coordinates in metres\n",
    "    c = gpd.GeoSeries([Point(lat, long)], crs=4326)\n",
    "    c = c.to_crs(3857)\n",
    "    return c\n",
    "def distance_meters(mercator_start, mercator_finish):\n",
    "    # return the distance in metres between to latitude/longitude pair point in degrees (i.e.: 40.392436 / -3.6994487)\n",
    "    return mercator_start.distance(mercator_finish)\n"
   ]
  },
  {
   "cell_type": "code",
   "execution_count": 132,
   "id": "21729703",
   "metadata": {},
   "outputs": [],
   "source": [
    "#embajadas = pd.read_json('../data/embajadas.json')\n",
    "#estaciones = pd.read_json('../data/estaciones.json')"
   ]
  },
  {
   "cell_type": "code",
   "execution_count": 133,
   "id": "d9c354db",
   "metadata": {
    "scrolled": true
   },
   "outputs": [],
   "source": [
    "\n",
    "def mercator_emb():\n",
    "    embajadas_clean[\"mercator_start\"] = embajadas_clean.apply(lambda x: to_mercator(x['Latitud_inicial'],x['Longitud_inicial']),axis=1)\n",
    "    return embajadas_clean\n",
    "def mercator_est():\n",
    "    stations_clean[\"mercator_finish\"] = estaciones_clean.apply(lambda x: to_mercator(x['Latitud_final'],x['Longitud_final']),axis=1)\n",
    "    return estaciones_clean\n"
   ]
  },
  {
   "cell_type": "code",
   "execution_count": 138,
   "id": "2da9c2ef",
   "metadata": {},
   "outputs": [],
   "source": [
    "def merge():\n",
    "    df_resultado = pd.merge(embajadas_clean,estaciones_clean, how=\"cross\")\n",
    "    return df_resultado"
   ]
  },
  {
   "cell_type": "code",
   "execution_count": 145,
   "id": "15421604",
   "metadata": {},
   "outputs": [],
   "source": [
    "def apply_distance():\n",
    "    df_resultado[\"Distance\"] = df_resultado.apply(lambda x: distance_meters(x['mercator_start'],x['mercator_finish']),axis=1)\n",
    "    return df_resultado"
   ]
  },
  {
   "cell_type": "code",
   "execution_count": null,
   "id": "18944419",
   "metadata": {},
   "outputs": [],
   "source": []
  },
  {
   "cell_type": "code",
   "execution_count": 146,
   "id": "6874486b",
   "metadata": {},
   "outputs": [],
   "source": [
    "def all_places():  \n",
    "    return df_resultado.sort_values(by = \"Distance\", ascending = True).groupby('Place of interest')['Type of place','Place address','BiciMAD station', 'Station location','Distance'].nth(0).drop([\"Distance\"], axis = \"columns\") "
   ]
  },
  {
   "cell_type": "code",
   "execution_count": 147,
   "id": "60252d05",
   "metadata": {},
   "outputs": [
    {
     "ename": "KeyError",
     "evalue": "'Distance'",
     "output_type": "error",
     "traceback": [
      "\u001b[0;31m---------------------------------------------------------------------------\u001b[0m",
      "\u001b[0;31mKeyError\u001b[0m                                  Traceback (most recent call last)",
      "\u001b[0;32m/var/folders/v0/ywqslh_51dx3jnpnjr05wgsr0000gn/T/ipykernel_17588/4017501456.py\u001b[0m in \u001b[0;36m<module>\u001b[0;34m\u001b[0m\n\u001b[0;32m----> 1\u001b[0;31m \u001b[0mall_places\u001b[0m\u001b[0;34m(\u001b[0m\u001b[0;34m)\u001b[0m\u001b[0;34m\u001b[0m\u001b[0;34m\u001b[0m\u001b[0m\n\u001b[0m",
      "\u001b[0;32m/var/folders/v0/ywqslh_51dx3jnpnjr05wgsr0000gn/T/ipykernel_17588/273730267.py\u001b[0m in \u001b[0;36mall_places\u001b[0;34m()\u001b[0m\n\u001b[1;32m      1\u001b[0m \u001b[0;32mdef\u001b[0m \u001b[0mall_places\u001b[0m\u001b[0;34m(\u001b[0m\u001b[0;34m)\u001b[0m\u001b[0;34m:\u001b[0m\u001b[0;34m\u001b[0m\u001b[0;34m\u001b[0m\u001b[0m\n\u001b[0;32m----> 2\u001b[0;31m     \u001b[0;32mreturn\u001b[0m \u001b[0mdf_resultado\u001b[0m\u001b[0;34m.\u001b[0m\u001b[0msort_values\u001b[0m\u001b[0;34m(\u001b[0m\u001b[0mby\u001b[0m \u001b[0;34m=\u001b[0m \u001b[0;34m\"Distance\"\u001b[0m\u001b[0;34m,\u001b[0m \u001b[0mascending\u001b[0m \u001b[0;34m=\u001b[0m \u001b[0;32mTrue\u001b[0m\u001b[0;34m)\u001b[0m\u001b[0;34m.\u001b[0m\u001b[0mgroupby\u001b[0m\u001b[0;34m(\u001b[0m\u001b[0;34m'Place of interest'\u001b[0m\u001b[0;34m)\u001b[0m\u001b[0;34m[\u001b[0m\u001b[0;34m'Type of place'\u001b[0m\u001b[0;34m,\u001b[0m\u001b[0;34m'Place address'\u001b[0m\u001b[0;34m,\u001b[0m\u001b[0;34m'BiciMAD station'\u001b[0m\u001b[0;34m,\u001b[0m \u001b[0;34m'Station location'\u001b[0m\u001b[0;34m,\u001b[0m\u001b[0;34m'Distance'\u001b[0m\u001b[0;34m]\u001b[0m\u001b[0;34m.\u001b[0m\u001b[0mnth\u001b[0m\u001b[0;34m(\u001b[0m\u001b[0;36m0\u001b[0m\u001b[0;34m)\u001b[0m\u001b[0;34m.\u001b[0m\u001b[0mdrop\u001b[0m\u001b[0;34m(\u001b[0m\u001b[0;34m[\u001b[0m\u001b[0;34m\"Distance\"\u001b[0m\u001b[0;34m]\u001b[0m\u001b[0;34m,\u001b[0m \u001b[0maxis\u001b[0m \u001b[0;34m=\u001b[0m \u001b[0;34m\"columns\"\u001b[0m\u001b[0;34m)\u001b[0m\u001b[0;34m\u001b[0m\u001b[0;34m\u001b[0m\u001b[0m\n\u001b[0m\u001b[1;32m      3\u001b[0m \u001b[0;34m\u001b[0m\u001b[0m\n",
      "\u001b[0;32m~/miniconda3/envs/proy-env/lib/python3.7/site-packages/pandas/util/_decorators.py\u001b[0m in \u001b[0;36mwrapper\u001b[0;34m(*args, **kwargs)\u001b[0m\n\u001b[1;32m    309\u001b[0m                     \u001b[0mstacklevel\u001b[0m\u001b[0;34m=\u001b[0m\u001b[0mstacklevel\u001b[0m\u001b[0;34m,\u001b[0m\u001b[0;34m\u001b[0m\u001b[0;34m\u001b[0m\u001b[0m\n\u001b[1;32m    310\u001b[0m                 )\n\u001b[0;32m--> 311\u001b[0;31m             \u001b[0;32mreturn\u001b[0m \u001b[0mfunc\u001b[0m\u001b[0;34m(\u001b[0m\u001b[0;34m*\u001b[0m\u001b[0margs\u001b[0m\u001b[0;34m,\u001b[0m \u001b[0;34m**\u001b[0m\u001b[0mkwargs\u001b[0m\u001b[0;34m)\u001b[0m\u001b[0;34m\u001b[0m\u001b[0;34m\u001b[0m\u001b[0m\n\u001b[0m\u001b[1;32m    312\u001b[0m \u001b[0;34m\u001b[0m\u001b[0m\n\u001b[1;32m    313\u001b[0m         \u001b[0;32mreturn\u001b[0m \u001b[0mwrapper\u001b[0m\u001b[0;34m\u001b[0m\u001b[0;34m\u001b[0m\u001b[0m\n",
      "\u001b[0;32m~/miniconda3/envs/proy-env/lib/python3.7/site-packages/pandas/core/frame.py\u001b[0m in \u001b[0;36msort_values\u001b[0;34m(self, by, axis, ascending, inplace, kind, na_position, ignore_index, key)\u001b[0m\n\u001b[1;32m   6257\u001b[0m \u001b[0;34m\u001b[0m\u001b[0m\n\u001b[1;32m   6258\u001b[0m             \u001b[0mby\u001b[0m \u001b[0;34m=\u001b[0m \u001b[0mby\u001b[0m\u001b[0;34m[\u001b[0m\u001b[0;36m0\u001b[0m\u001b[0;34m]\u001b[0m\u001b[0;34m\u001b[0m\u001b[0;34m\u001b[0m\u001b[0m\n\u001b[0;32m-> 6259\u001b[0;31m             \u001b[0mk\u001b[0m \u001b[0;34m=\u001b[0m \u001b[0mself\u001b[0m\u001b[0;34m.\u001b[0m\u001b[0m_get_label_or_level_values\u001b[0m\u001b[0;34m(\u001b[0m\u001b[0mby\u001b[0m\u001b[0;34m,\u001b[0m \u001b[0maxis\u001b[0m\u001b[0;34m=\u001b[0m\u001b[0maxis\u001b[0m\u001b[0;34m)\u001b[0m\u001b[0;34m\u001b[0m\u001b[0;34m\u001b[0m\u001b[0m\n\u001b[0m\u001b[1;32m   6260\u001b[0m \u001b[0;34m\u001b[0m\u001b[0m\n\u001b[1;32m   6261\u001b[0m             \u001b[0;31m# need to rewrap column in Series to apply key function\u001b[0m\u001b[0;34m\u001b[0m\u001b[0;34m\u001b[0m\u001b[0;34m\u001b[0m\u001b[0m\n",
      "\u001b[0;32m~/miniconda3/envs/proy-env/lib/python3.7/site-packages/pandas/core/generic.py\u001b[0m in \u001b[0;36m_get_label_or_level_values\u001b[0;34m(self, key, axis)\u001b[0m\n\u001b[1;32m   1777\u001b[0m             \u001b[0mvalues\u001b[0m \u001b[0;34m=\u001b[0m \u001b[0mself\u001b[0m\u001b[0;34m.\u001b[0m\u001b[0maxes\u001b[0m\u001b[0;34m[\u001b[0m\u001b[0maxis\u001b[0m\u001b[0;34m]\u001b[0m\u001b[0;34m.\u001b[0m\u001b[0mget_level_values\u001b[0m\u001b[0;34m(\u001b[0m\u001b[0mkey\u001b[0m\u001b[0;34m)\u001b[0m\u001b[0;34m.\u001b[0m\u001b[0m_values\u001b[0m\u001b[0;34m\u001b[0m\u001b[0;34m\u001b[0m\u001b[0m\n\u001b[1;32m   1778\u001b[0m         \u001b[0;32melse\u001b[0m\u001b[0;34m:\u001b[0m\u001b[0;34m\u001b[0m\u001b[0;34m\u001b[0m\u001b[0m\n\u001b[0;32m-> 1779\u001b[0;31m             \u001b[0;32mraise\u001b[0m \u001b[0mKeyError\u001b[0m\u001b[0;34m(\u001b[0m\u001b[0mkey\u001b[0m\u001b[0;34m)\u001b[0m\u001b[0;34m\u001b[0m\u001b[0;34m\u001b[0m\u001b[0m\n\u001b[0m\u001b[1;32m   1780\u001b[0m \u001b[0;34m\u001b[0m\u001b[0m\n\u001b[1;32m   1781\u001b[0m         \u001b[0;31m# Check for duplicates\u001b[0m\u001b[0;34m\u001b[0m\u001b[0;34m\u001b[0m\u001b[0;34m\u001b[0m\u001b[0m\n",
      "\u001b[0;31mKeyError\u001b[0m: 'Distance'"
     ]
    }
   ],
   "source": [
    "all_places()"
   ]
  },
  {
   "cell_type": "code",
   "execution_count": 74,
   "id": "aa51d8d8",
   "metadata": {},
   "outputs": [],
   "source": [
    "#estaciones_clean = estaciones()\n",
    "#embajadas_clean = embajadas()\n",
    "#embajadas_clean = mercator_emb()\n",
    "#estaciones_clean = mercator_est()\n",
    "#df_resultado = merge()\n",
    "#df_resultado = apply_distancia()\n",
    "#all_minimum()"
   ]
  },
  {
   "cell_type": "code",
   "execution_count": 61,
   "id": "31a60540",
   "metadata": {},
   "outputs": [],
   "source": [
    "def minimum():\n",
    "    df_minimo = df_resultado[df_resultado[\"Place of interest\"] == input('Pon el lugar de interés: ')]\n",
    "    df_minimum = df_minimo[df_minimo[\"Distance\"] == df_minimo[\"Distance\"].min()]\n",
    "    minimum_mod = df_minimum[[\"Place of interest\",\"Type of place\", \"Place address\",\"BiciMAD station\",\"Station location\"]]\n",
    "    return minimum_mod"
   ]
  },
  {
   "cell_type": "code",
   "execution_count": 62,
   "id": "74c9f5d2",
   "metadata": {
    "scrolled": true
   },
   "outputs": [
    {
     "name": "stdout",
     "output_type": "stream",
     "text": [
      "Pon el lugar de interés: Embajada de Yemen\n"
     ]
    },
    {
     "data": {
      "text/html": [
       "<div>\n",
       "<style scoped>\n",
       "    .dataframe tbody tr th:only-of-type {\n",
       "        vertical-align: middle;\n",
       "    }\n",
       "\n",
       "    .dataframe tbody tr th {\n",
       "        vertical-align: top;\n",
       "    }\n",
       "\n",
       "    .dataframe thead th {\n",
       "        text-align: right;\n",
       "    }\n",
       "</style>\n",
       "<table border=\"1\" class=\"dataframe\">\n",
       "  <thead>\n",
       "    <tr style=\"text-align: right;\">\n",
       "      <th></th>\n",
       "      <th>Place of interest</th>\n",
       "      <th>Type of place</th>\n",
       "      <th>Place address</th>\n",
       "      <th>BiciMAD station</th>\n",
       "      <th>Station location</th>\n",
       "    </tr>\n",
       "  </thead>\n",
       "  <tbody>\n",
       "    <tr>\n",
       "      <th>41935</th>\n",
       "      <td>Embajada de Yemen</td>\n",
       "      <td>Embajadas y consulados</td>\n",
       "      <td>PASEO CASTELLANA 117 PLANTA 8 D</td>\n",
       "      <td>Pavones</td>\n",
       "      <td>Calle Hacienda de Pavones nº 342</td>\n",
       "    </tr>\n",
       "  </tbody>\n",
       "</table>\n",
       "</div>"
      ],
      "text/plain": [
       "       Place of interest           Type of place  \\\n",
       "41935  Embajada de Yemen  Embajadas y consulados   \n",
       "\n",
       "                         Place address BiciMAD station  \\\n",
       "41935  PASEO CASTELLANA 117 PLANTA 8 D         Pavones   \n",
       "\n",
       "                       Station location  \n",
       "41935  Calle Hacienda de Pavones nº 342  "
      ]
     },
     "execution_count": 62,
     "metadata": {},
     "output_type": "execute_result"
    }
   ],
   "source": [
    "minimum()"
   ]
  },
  {
   "cell_type": "code",
   "execution_count": null,
   "id": "af5c5344",
   "metadata": {},
   "outputs": [],
   "source": []
  },
  {
   "cell_type": "code",
   "execution_count": null,
   "id": "7a8afd2a",
   "metadata": {},
   "outputs": [],
   "source": []
  }
 ],
 "metadata": {
  "interpreter": {
   "hash": "9fa7c06ce9755cd96c5933f2d8485d10f28203b5e3345cb3d6d74ec86917597c"
  },
  "kernelspec": {
   "display_name": "Python [conda env:proy-env]",
   "language": "python",
   "name": "conda-env-proy-env-py"
  },
  "language_info": {
   "codemirror_mode": {
    "name": "ipython",
    "version": 3
   },
   "file_extension": ".py",
   "mimetype": "text/x-python",
   "name": "python",
   "nbconvert_exporter": "python",
   "pygments_lexer": "ipython3",
   "version": "3.7.11"
  }
 },
 "nbformat": 4,
 "nbformat_minor": 5
}
