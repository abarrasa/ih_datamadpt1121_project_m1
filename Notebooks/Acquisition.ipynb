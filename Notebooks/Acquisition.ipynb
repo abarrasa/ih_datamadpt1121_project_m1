{
 "cells": [
  {
   "cell_type": "code",
   "execution_count": 152,
   "id": "80c5928d",
   "metadata": {},
   "outputs": [],
   "source": [
    "import requests\n",
    "import pandas as pd\n",
    "from shapely.geometry import Point\n",
    "import geopandas as gpd \n",
    "import argparse"
   ]
  },
  {
   "cell_type": "code",
   "execution_count": 159,
   "id": "73ce1c70",
   "metadata": {},
   "outputs": [],
   "source": [
    "def embajadas():\n",
    "    response = requests.get('https://datos.madrid.es/egob/catalogo/201000-0-embajadas-consulados.json')\n",
    "    results = response.json()\n",
    "    embajadas = pd.json_normalize(results['@graph'])\n",
    "    embajadas[\"Type of place\"] = \"Embajadas y consulados\"\n",
    "    embajadas[\"Dirección\"] = embajadas[\"address.street-address\"]\n",
    "    embajadas[\"location.latitude\"] = pd.to_numeric(embajadas[\"location.latitude\"],errors = 'coerce')\n",
    "    embajadas[\"location.longitude\"] = pd.to_numeric(embajadas[\"location.longitude\"],errors = 'coerce')\n",
    "    embajadas_clean = embajadas[[\"title\",\"Type of place\", \"Dirección\",\"location.longitude\",\"location.latitude\"]]\n",
    "    embajadas_clean = embajadas_clean.rename(columns={\"title\": \"Place of interest\", \"Dirección\": \"Place address\", \"location.longitude\": \"Longitud_inicial\", \"location.latitude\": \"Latitud_inicial\"}, errors=\"raise\")\n",
    "    return embajadas_clean\n",
    "\n",
    "def estaciones():\n",
    "    estaciones = pd.read_json(\"../data/bicimad2.json\", orient='records')\n",
    "    geometry_coordinates = estaciones[\"geometry_coordinates\"].str.split(expand=True)\n",
    "    geometry_coordinates.columns = ['LONGITUD', 'LATITUD']\n",
    "    geometry_coordinates['LONGITUD'] = geometry_coordinates['LONGITUD'].str.replace(\"[\",\"\")\n",
    "    geometry_coordinates['LONGITUD'] = geometry_coordinates['LONGITUD'].str.replace(\",\",\"\")\n",
    "    geometry_coordinates['LATITUD'] = geometry_coordinates['LATITUD'].str.replace(\"]\",\"\")\n",
    "    estaciones = pd.concat([estaciones, geometry_coordinates], axis=1)\n",
    "    estaciones[\"LONGITUD\"] = pd.to_numeric(estaciones[\"LONGITUD\"],errors = 'coerce')\n",
    "    estaciones[\"LATITUD\"] = pd.to_numeric(estaciones[\"LATITUD\"],errors = 'coerce')\n",
    "    estaciones_clean = estaciones[[\"name\",\"address\",\"LONGITUD\",\"LATITUD\"]]\n",
    "    estaciones_clean = estaciones_clean.rename(columns={\"name\": \"BiciMAD station\", \"address\": \"Station location\", \"LONGITUD\": \"Longitud_final\", \"LATITUD\": \"Latitud_final\"})\n",
    "    return estaciones_clean\n"
   ]
  },
  {
   "cell_type": "code",
   "execution_count": 160,
   "id": "4d7034a8",
   "metadata": {},
   "outputs": [],
   "source": [
    "def to_mercator(lat, long):\n",
    "    # transform latitude/longitude data in degrees to pseudo-mercator coordinates in metres\n",
    "    c = gpd.GeoSeries([Point(lat, long)], crs=4326)\n",
    "    c = c.to_crs(3857)\n",
    "    return c\n",
    "\n",
    "def distance_meters(mercator_start, mercator_finish):\n",
    "    # return the distance in metres between to latitude/longitude pair point in degrees (i.e.: 40.392436 / -3.6994487)\n",
    "    return mercator_start.distance(mercator_finish)\n",
    "    \n"
   ]
  },
  {
   "cell_type": "code",
   "execution_count": 175,
   "id": "21729703",
   "metadata": {},
   "outputs": [],
   "source": [
    "#embajadas = pd.read_json('../data/embajadas.json')\n",
    "#estaciones = pd.read_json('../data/estaciones.json')"
   ]
  },
  {
   "cell_type": "code",
   "execution_count": 176,
   "id": "d9c354db",
   "metadata": {
    "scrolled": true
   },
   "outputs": [],
   "source": [
    "def mercator_emb():\n",
    "    embajadas_clean[\"mercator_start\"] = embajadas_clean.apply(lambda x: to_mercator(x['Longitud_inicial'], x['Latitud_inicial']), axis=1)\n",
    "    return embajadas_clean\n",
    "\n",
    "def mercator_est():\n",
    "    estaciones_clean[\"mercator_finish\"] = estaciones_clean.apply(lambda x: to_mercator(x[\"Latitud_final\"], x[\"Longitud_final\"]), axis=1)\n",
    "    return estaciones_clean"
   ]
  },
  {
   "cell_type": "code",
   "execution_count": 189,
   "id": "2da9c2ef",
   "metadata": {},
   "outputs": [],
   "source": [
    "def merge():\n",
    "    df_resultado = pd.merge(embajadas_clean,estaciones_clean, how='cross')\n",
    "    return df_resultado"
   ]
  },
  {
   "cell_type": "code",
   "execution_count": 190,
   "id": "15421604",
   "metadata": {},
   "outputs": [],
   "source": [
    "def apply_distancia():\n",
    "    df_resultado[\"Distancia\"] = df_resultado.apply(lambda x: distance_meters(x[\"mercator_start\"], x[\"mercator_finish\"]), axis=1)\n",
    "    return df_resultado"
   ]
  },
  {
   "cell_type": "code",
   "execution_count": 191,
   "id": "31a60540",
   "metadata": {},
   "outputs": [],
   "source": [
    "def minimum():\n",
    "    df_minimo = df_resultado[df_resultado[\"Place of interest\"] == input('Pon el lugar de interés: ')]\n",
    "    df_minimum = df_minimo[df_minimo['Distancia'] == df_minimo['Distancia'].min()]\n",
    "    minimum_mod = df_minimum[[\"Place of interest\",\"Type of place\", \"Place address\",\"BiciMAD station\",\"Station location\"]]\n",
    "    return minimum_mod"
   ]
  },
  {
   "cell_type": "code",
   "execution_count": 192,
   "id": "74c9f5d2",
   "metadata": {
    "scrolled": true
   },
   "outputs": [
    {
     "name": "stdout",
     "output_type": "stream",
     "text": [
      "Pon el lugar de interés: Consulado de Argentina\n"
     ]
    },
    {
     "data": {
      "text/html": [
       "<div>\n",
       "<style scoped>\n",
       "    .dataframe tbody tr th:only-of-type {\n",
       "        vertical-align: middle;\n",
       "    }\n",
       "\n",
       "    .dataframe tbody tr th {\n",
       "        vertical-align: top;\n",
       "    }\n",
       "\n",
       "    .dataframe thead th {\n",
       "        text-align: right;\n",
       "    }\n",
       "</style>\n",
       "<table border=\"1\" class=\"dataframe\">\n",
       "  <thead>\n",
       "    <tr style=\"text-align: right;\">\n",
       "      <th></th>\n",
       "      <th>Place of interest</th>\n",
       "      <th>Type of place</th>\n",
       "      <th>Place address</th>\n",
       "      <th>BiciMAD station</th>\n",
       "      <th>Station location</th>\n",
       "    </tr>\n",
       "  </thead>\n",
       "  <tbody>\n",
       "    <tr>\n",
       "      <th>223</th>\n",
       "      <td>Consulado de Argentina</td>\n",
       "      <td>Embajadas y consulados</td>\n",
       "      <td>CALLE FERNANDO EL SANTO 15 PLANTA BAJA</td>\n",
       "      <td>Pavones</td>\n",
       "      <td>Calle Hacienda de Pavones nº 342</td>\n",
       "    </tr>\n",
       "  </tbody>\n",
       "</table>\n",
       "</div>"
      ],
      "text/plain": [
       "          Place of interest           Type of place  \\\n",
       "223  Consulado de Argentina  Embajadas y consulados   \n",
       "\n",
       "                              Place address BiciMAD station  \\\n",
       "223  CALLE FERNANDO EL SANTO 15 PLANTA BAJA         Pavones   \n",
       "\n",
       "                     Station location  \n",
       "223  Calle Hacienda de Pavones nº 342  "
      ]
     },
     "execution_count": 192,
     "metadata": {},
     "output_type": "execute_result"
    }
   ],
   "source": [
    "minimum()"
   ]
  },
  {
   "cell_type": "code",
   "execution_count": 193,
   "id": "318d7369",
   "metadata": {},
   "outputs": [],
   "source": [
    "def all_minimum():\n",
    "    return df_resultado.sort_values(by = \"Distancia\", ascending = True).groupby('Place of interest')['Place address', 'Distancia','BiciMAD station', 'Station location'].nth(0).drop([\"Distancia\"], axis = \"columns\")"
   ]
  },
  {
   "cell_type": "code",
   "execution_count": 194,
   "id": "65e0ca8f",
   "metadata": {},
   "outputs": [
    {
     "name": "stderr",
     "output_type": "stream",
     "text": [
      "/Users/Andrea/miniconda3/envs/proy-env/lib/python3.7/site-packages/ipykernel_launcher.py:2: FutureWarning: Indexing with multiple keys (implicitly converted to a tuple of keys) will be deprecated, use a list instead.\n",
      "  \n"
     ]
    },
    {
     "data": {
      "text/html": [
       "<div>\n",
       "<style scoped>\n",
       "    .dataframe tbody tr th:only-of-type {\n",
       "        vertical-align: middle;\n",
       "    }\n",
       "\n",
       "    .dataframe tbody tr th {\n",
       "        vertical-align: top;\n",
       "    }\n",
       "\n",
       "    .dataframe thead th {\n",
       "        text-align: right;\n",
       "    }\n",
       "</style>\n",
       "<table border=\"1\" class=\"dataframe\">\n",
       "  <thead>\n",
       "    <tr style=\"text-align: right;\">\n",
       "      <th></th>\n",
       "      <th>Place address</th>\n",
       "      <th>BiciMAD station</th>\n",
       "      <th>Station location</th>\n",
       "    </tr>\n",
       "    <tr>\n",
       "      <th>Place of interest</th>\n",
       "      <th></th>\n",
       "      <th></th>\n",
       "      <th></th>\n",
       "    </tr>\n",
       "  </thead>\n",
       "  <tbody>\n",
       "    <tr>\n",
       "      <th>Consulado de Argentina</th>\n",
       "      <td>CALLE FERNANDO EL SANTO 15 PLANTA BAJA</td>\n",
       "      <td>Pavones</td>\n",
       "      <td>Calle Hacienda de Pavones nº 342</td>\n",
       "    </tr>\n",
       "    <tr>\n",
       "      <th>Consulado de Belice</th>\n",
       "      <td>CALLE TALAVERA 9</td>\n",
       "      <td>Pavones</td>\n",
       "      <td>Calle Hacienda de Pavones nº 342</td>\n",
       "    </tr>\n",
       "    <tr>\n",
       "      <th>Consulado de Bolivia</th>\n",
       "      <td>CALLE AVIADOR LINDBERGH 3</td>\n",
       "      <td>Pavones</td>\n",
       "      <td>Calle Hacienda de Pavones nº 342</td>\n",
       "    </tr>\n",
       "    <tr>\n",
       "      <th>Consulado de Brasil</th>\n",
       "      <td>CALLE GOYA 5 y 7 pasaje</td>\n",
       "      <td>Pavones</td>\n",
       "      <td>Calle Hacienda de Pavones nº 342</td>\n",
       "    </tr>\n",
       "    <tr>\n",
       "      <th>Consulado de Bélgica</th>\n",
       "      <td>PASEO CASTELLANA 18 PLANTA 6 Izquierda</td>\n",
       "      <td>Pavones</td>\n",
       "      <td>Calle Hacienda de Pavones nº 342</td>\n",
       "    </tr>\n",
       "    <tr>\n",
       "      <th>...</th>\n",
       "      <td>...</td>\n",
       "      <td>...</td>\n",
       "      <td>...</td>\n",
       "    </tr>\n",
       "    <tr>\n",
       "      <th>Embajada de Vietnam</th>\n",
       "      <td>AVENIDA ALFONSO XIII 54</td>\n",
       "      <td>Pavones</td>\n",
       "      <td>Calle Hacienda de Pavones nº 342</td>\n",
       "    </tr>\n",
       "    <tr>\n",
       "      <th>Embajada de Yemen</th>\n",
       "      <td>PASEO CASTELLANA 117 PLANTA 8 D</td>\n",
       "      <td>Pavones</td>\n",
       "      <td>Calle Hacienda de Pavones nº 342</td>\n",
       "    </tr>\n",
       "    <tr>\n",
       "      <th>Embajada de la República Popular Democrática de Corea</th>\n",
       "      <td>CALLE DARIO APARICIO 43</td>\n",
       "      <td>Pavones</td>\n",
       "      <td>Calle Hacienda de Pavones nº 342</td>\n",
       "    </tr>\n",
       "    <tr>\n",
       "      <th>Embajada de la República de Corea</th>\n",
       "      <td>CALLE GONZALEZ AMIGO 15</td>\n",
       "      <td>Pavones</td>\n",
       "      <td>Calle Hacienda de Pavones nº 342</td>\n",
       "    </tr>\n",
       "    <tr>\n",
       "      <th>Embajada del Nepal</th>\n",
       "      <td>CALLE GENERAL ORAA 3 PLANTA bajo izquierda</td>\n",
       "      <td>Pavones</td>\n",
       "      <td>Calle Hacienda de Pavones nº 342</td>\n",
       "    </tr>\n",
       "  </tbody>\n",
       "</table>\n",
       "<p>162 rows × 3 columns</p>\n",
       "</div>"
      ],
      "text/plain": [
       "                                                                                 Place address  \\\n",
       "Place of interest                                                                                \n",
       "Consulado de Argentina                                  CALLE FERNANDO EL SANTO 15 PLANTA BAJA   \n",
       "Consulado de Belice                                                           CALLE TALAVERA 9   \n",
       "Consulado de Bolivia                                                 CALLE AVIADOR LINDBERGH 3   \n",
       "Consulado de Brasil                                                    CALLE GOYA 5 y 7 pasaje   \n",
       "Consulado de Bélgica                                    PASEO CASTELLANA 18 PLANTA 6 Izquierda   \n",
       "...                                                                                        ...   \n",
       "Embajada de Vietnam                                                    AVENIDA ALFONSO XIII 54   \n",
       "Embajada de Yemen                                              PASEO CASTELLANA 117 PLANTA 8 D   \n",
       "Embajada de la República Popular Democrática de...                     CALLE DARIO APARICIO 43   \n",
       "Embajada de la República de Corea                                      CALLE GONZALEZ AMIGO 15   \n",
       "Embajada del Nepal                                  CALLE GENERAL ORAA 3 PLANTA bajo izquierda   \n",
       "\n",
       "                                                   BiciMAD station  \\\n",
       "Place of interest                                                    \n",
       "Consulado de Argentina                                     Pavones   \n",
       "Consulado de Belice                                        Pavones   \n",
       "Consulado de Bolivia                                       Pavones   \n",
       "Consulado de Brasil                                        Pavones   \n",
       "Consulado de Bélgica                                       Pavones   \n",
       "...                                                            ...   \n",
       "Embajada de Vietnam                                        Pavones   \n",
       "Embajada de Yemen                                          Pavones   \n",
       "Embajada de la República Popular Democrática de...         Pavones   \n",
       "Embajada de la República de Corea                          Pavones   \n",
       "Embajada del Nepal                                         Pavones   \n",
       "\n",
       "                                                                    Station location  \n",
       "Place of interest                                                                     \n",
       "Consulado de Argentina                              Calle Hacienda de Pavones nº 342  \n",
       "Consulado de Belice                                 Calle Hacienda de Pavones nº 342  \n",
       "Consulado de Bolivia                                Calle Hacienda de Pavones nº 342  \n",
       "Consulado de Brasil                                 Calle Hacienda de Pavones nº 342  \n",
       "Consulado de Bélgica                                Calle Hacienda de Pavones nº 342  \n",
       "...                                                                              ...  \n",
       "Embajada de Vietnam                                 Calle Hacienda de Pavones nº 342  \n",
       "Embajada de Yemen                                   Calle Hacienda de Pavones nº 342  \n",
       "Embajada de la República Popular Democrática de...  Calle Hacienda de Pavones nº 342  \n",
       "Embajada de la República de Corea                   Calle Hacienda de Pavones nº 342  \n",
       "Embajada del Nepal                                  Calle Hacienda de Pavones nº 342  \n",
       "\n",
       "[162 rows x 3 columns]"
      ]
     },
     "execution_count": 194,
     "metadata": {},
     "output_type": "execute_result"
    }
   ],
   "source": [
    "all_minimum()"
   ]
  },
  {
   "cell_type": "code",
   "execution_count": 195,
   "id": "466c42a0",
   "metadata": {},
   "outputs": [
    {
     "data": {
      "text/plain": [
       "_StoreAction(option_strings=['-a'], dest='a', nargs=None, const=None, default=None, type=<class 'str'>, choices=None, help='Lugar de interés', metavar=None)"
      ]
     },
     "execution_count": 195,
     "metadata": {},
     "output_type": "execute_result"
    }
   ],
   "source": [
    "parser = argparse.ArgumentParser()\n",
    "parser.add_argument('-a', type= str, help= 'Lugar de interés')\n",
    "\n",
    "                    \n",
    "                    \n",
    "                    "
   ]
  },
  {
   "cell_type": "code",
   "execution_count": null,
   "id": "7a425b1b",
   "metadata": {},
   "outputs": [],
   "source": [
    "args = parser.parse_args()\n",
    "print(args)"
   ]
  },
  {
   "cell_type": "code",
   "execution_count": null,
   "id": "dea26715",
   "metadata": {},
   "outputs": [],
   "source": [
    "# Main pipeline function\n",
    "def main():\n",
    "    print('--//--- starting application ---//--')\n",
    "    print('\\n')\n",
    "    parser = argparse.ArgumentParser()\n",
    "    #parser.add_argument('--p', type=str,help= 'Enter a place of interest')\n",
    "    parser.add_argument('--function', type=str,help= \"'minimum' or 'all_places'\")\n",
    "    args=parser.parse_args()\n",
    "    sys.stdout.write(str(minimum(args)))\n",
    "# Pipeline execution\n",
    "if __name__ == '__main__':\n",
    "    main(function(args))"
   ]
  },
  {
   "cell_type": "code",
   "execution_count": null,
   "id": "af5c5344",
   "metadata": {},
   "outputs": [],
   "source": []
  }
 ],
 "metadata": {
  "kernelspec": {
   "display_name": "Python [conda env:proy-env]",
   "language": "python",
   "name": "conda-env-proy-env-py"
  },
  "language_info": {
   "codemirror_mode": {
    "name": "ipython",
    "version": 3
   },
   "file_extension": ".py",
   "mimetype": "text/x-python",
   "name": "python",
   "nbconvert_exporter": "python",
   "pygments_lexer": "ipython3",
   "version": "3.7.11"
  }
 },
 "nbformat": 4,
 "nbformat_minor": 5
}
