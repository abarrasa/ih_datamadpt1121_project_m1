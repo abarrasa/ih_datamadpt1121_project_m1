{
 "cells": [
  {
   "cell_type": "code",
   "execution_count": null,
   "id": "cc2e344e",
   "metadata": {},
   "outputs": [],
   "source": [
    "def wrangle(df):\n",
    "    filtered = data[data['Year']==year]\n",
    "    return filtered"
   ]
  }
 ],
 "metadata": {
  "kernelspec": {
   "display_name": "Python [conda env:proy-env]",
   "language": "python",
   "name": "conda-env-proy-env-py"
  },
  "language_info": {
   "codemirror_mode": {
    "name": "ipython",
    "version": 3
   },
   "file_extension": ".py",
   "mimetype": "text/x-python",
   "name": "python",
   "nbconvert_exporter": "python",
   "pygments_lexer": "ipython3",
   "version": "3.7.11"
  }
 },
 "nbformat": 4,
 "nbformat_minor": 5
}
